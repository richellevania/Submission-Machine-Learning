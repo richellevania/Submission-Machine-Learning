{
  "cells": [
    {
      "cell_type": "markdown",
      "metadata": {
        "id": "fKADPWcFKlj3"
      },
      "source": [
        "# **1. Import Library**"
      ]
    },
    {
      "cell_type": "markdown",
      "metadata": {
        "id": "LgA3ERnVn84N"
      },
      "source": [
        "Pada tahap ini, Anda perlu mengimpor beberapa pustaka (library) Python yang dibutuhkan untuk analisis data dan pembangunan model machine learning."
      ]
    },
    {
      "cell_type": "code",
      "execution_count": 33,
      "metadata": {
        "id": "BlmvjLY9M4Yj"
      },
      "outputs": [],
      "source": [
        "import numpy as np\n",
        "import pandas as pd\n",
        "import matplotlib.pyplot as plt\n",
        "import seaborn as sns\n",
        "import sklearn\n",
        "from sklearn.preprocessing import StandardScaler, LabelEncoder, MinMaxScaler\n",
        "from sklearn.model_selection import train_test_split\n",
        "from sklearn.model_selection import train_test_split\n",
        "from sklearn.preprocessing import LabelEncoder\n",
        "from sklearn.linear_model import LogisticRegression\n",
        "from sklearn.tree import DecisionTreeClassifier\n",
        "from sklearn.ensemble import RandomForestClassifier\n",
        "from sklearn.neighbors import KNeighborsClassifier\n",
        "from sklearn.metrics import accuracy_score, f1_score, precision_score, recall_score, classification_report, confusion_matrix\n",
        "from sklearn.model_selection import GridSearchCV, RandomizedSearchCV\n",
        "from sklearn.model_selection import cross_val_score\n"
      ]
    },
    {
      "cell_type": "markdown",
      "metadata": {
        "id": "f3YIEnAFKrKL"
      },
      "source": [
        "# **2. Memuat Dataset dari Hasil Clustering**"
      ]
    },
    {
      "cell_type": "markdown",
      "metadata": {
        "id": "Ey3ItwTen_7E"
      },
      "source": [
        "Memuat dataset hasil clustering dari file CSV ke dalam variabel DataFrame."
      ]
    },
    {
      "cell_type": "code",
      "execution_count": 34,
      "metadata": {
        "id": "GHCGNTyrM5fS"
      },
      "outputs": [
        {
          "data": {
            "text/html": [
              "<div>\n",
              "<style scoped>\n",
              "    .dataframe tbody tr th:only-of-type {\n",
              "        vertical-align: middle;\n",
              "    }\n",
              "\n",
              "    .dataframe tbody tr th {\n",
              "        vertical-align: top;\n",
              "    }\n",
              "\n",
              "    .dataframe thead th {\n",
              "        text-align: right;\n",
              "    }\n",
              "</style>\n",
              "<table border=\"1\" class=\"dataframe\">\n",
              "  <thead>\n",
              "    <tr style=\"text-align: right;\">\n",
              "      <th></th>\n",
              "      <th>TransactionAmount</th>\n",
              "      <th>CustomerAge</th>\n",
              "      <th>TransactionDuration</th>\n",
              "      <th>LoginAttempts</th>\n",
              "      <th>AccountBalance</th>\n",
              "      <th>TransactionType</th>\n",
              "      <th>Location</th>\n",
              "      <th>Channel</th>\n",
              "      <th>CustomerOccupation</th>\n",
              "      <th>Cluster_Final</th>\n",
              "    </tr>\n",
              "  </thead>\n",
              "  <tbody>\n",
              "    <tr>\n",
              "      <th>0</th>\n",
              "      <td>14.09</td>\n",
              "      <td>70.0</td>\n",
              "      <td>81.0</td>\n",
              "      <td>1.0</td>\n",
              "      <td>5112.21</td>\n",
              "      <td>Debit</td>\n",
              "      <td>San Diego</td>\n",
              "      <td>ATM</td>\n",
              "      <td>Doctor</td>\n",
              "      <td>3.0</td>\n",
              "    </tr>\n",
              "    <tr>\n",
              "      <th>1</th>\n",
              "      <td>376.24</td>\n",
              "      <td>68.0</td>\n",
              "      <td>141.0</td>\n",
              "      <td>1.0</td>\n",
              "      <td>13758.91</td>\n",
              "      <td>Debit</td>\n",
              "      <td>Houston</td>\n",
              "      <td>ATM</td>\n",
              "      <td>Doctor</td>\n",
              "      <td>3.0</td>\n",
              "    </tr>\n",
              "    <tr>\n",
              "      <th>2</th>\n",
              "      <td>126.29</td>\n",
              "      <td>19.0</td>\n",
              "      <td>56.0</td>\n",
              "      <td>1.0</td>\n",
              "      <td>1122.35</td>\n",
              "      <td>Debit</td>\n",
              "      <td>Mesa</td>\n",
              "      <td>Online</td>\n",
              "      <td>Student</td>\n",
              "      <td>2.0</td>\n",
              "    </tr>\n",
              "    <tr>\n",
              "      <th>3</th>\n",
              "      <td>184.50</td>\n",
              "      <td>26.0</td>\n",
              "      <td>25.0</td>\n",
              "      <td>1.0</td>\n",
              "      <td>8569.06</td>\n",
              "      <td>Debit</td>\n",
              "      <td>Raleigh</td>\n",
              "      <td>Online</td>\n",
              "      <td>Student</td>\n",
              "      <td>2.0</td>\n",
              "    </tr>\n",
              "    <tr>\n",
              "      <th>4</th>\n",
              "      <td>13.45</td>\n",
              "      <td>26.0</td>\n",
              "      <td>198.0</td>\n",
              "      <td>1.0</td>\n",
              "      <td>7429.40</td>\n",
              "      <td>Credit</td>\n",
              "      <td>Atlanta</td>\n",
              "      <td>Online</td>\n",
              "      <td>Student</td>\n",
              "      <td>2.0</td>\n",
              "    </tr>\n",
              "  </tbody>\n",
              "</table>\n",
              "</div>"
            ],
            "text/plain": [
              "   TransactionAmount  CustomerAge  TransactionDuration  LoginAttempts  \\\n",
              "0              14.09         70.0                 81.0            1.0   \n",
              "1             376.24         68.0                141.0            1.0   \n",
              "2             126.29         19.0                 56.0            1.0   \n",
              "3             184.50         26.0                 25.0            1.0   \n",
              "4              13.45         26.0                198.0            1.0   \n",
              "\n",
              "   AccountBalance TransactionType   Location Channel CustomerOccupation  \\\n",
              "0         5112.21           Debit  San Diego     ATM             Doctor   \n",
              "1        13758.91           Debit    Houston     ATM             Doctor   \n",
              "2         1122.35           Debit       Mesa  Online            Student   \n",
              "3         8569.06           Debit    Raleigh  Online            Student   \n",
              "4         7429.40          Credit    Atlanta  Online            Student   \n",
              "\n",
              "   Cluster_Final  \n",
              "0            3.0  \n",
              "1            3.0  \n",
              "2            2.0  \n",
              "3            2.0  \n",
              "4            2.0  "
            ]
          },
          "execution_count": 34,
          "metadata": {},
          "output_type": "execute_result"
        }
      ],
      "source": [
        "df = pd.read_csv(r\"C:\\Submission Machine Learning\\Dataset_inisiasi.csv\")\n",
        "df.head()"
      ]
    },
    {
      "cell_type": "code",
      "execution_count": 35,
      "metadata": {},
      "outputs": [
        {
          "name": "stdout",
          "output_type": "stream",
          "text": [
            "\n",
            "Dataset setelah encoding fitur kategorikal:\n",
            "   TransactionAmount  CustomerAge  TransactionDuration  LoginAttempts  \\\n",
            "0              14.09         70.0                 81.0            1.0   \n",
            "1             376.24         68.0                141.0            1.0   \n",
            "2             126.29         19.0                 56.0            1.0   \n",
            "3             184.50         26.0                 25.0            1.0   \n",
            "4              13.45         26.0                198.0            1.0   \n",
            "\n",
            "   AccountBalance  TransactionType  Location  Channel  CustomerOccupation  \\\n",
            "0         5112.21                1        36        0                   0   \n",
            "1        13758.91                1        15        0                   0   \n",
            "2         1122.35                1        23        2                   3   \n",
            "3         8569.06                1        33        2                   3   \n",
            "4         7429.40                0         1        2                   3   \n",
            "\n",
            "   Cluster_Final  \n",
            "0            3.0  \n",
            "1            3.0  \n",
            "2            2.0  \n",
            "3            2.0  \n",
            "4            2.0  \n"
          ]
        }
      ],
      "source": [
        "# Preprocessing: Encode kolom kategorikal (TransactionType, Location, Channel, CustomerOccupation)\n",
        "# Menggunakan LabelEncoder untuk mengubah data kategorikal menjadi numerik\n",
        "le = LabelEncoder()\n",
        "categorical_columns = ['TransactionType', 'Location', 'Channel', 'CustomerOccupation']\n",
        "\n",
        "for col in categorical_columns:\n",
        "    df[col] = le.fit_transform(df[col])\n",
        "\n",
        "print(\"\\nDataset setelah encoding fitur kategorikal:\")\n",
        "print(df.head())"
      ]
    },
    {
      "cell_type": "markdown",
      "metadata": {
        "id": "KkPem5eWL2UP"
      },
      "source": [
        "# **3. Data Splitting**"
      ]
    },
    {
      "cell_type": "markdown",
      "metadata": {
        "id": "YYj1rl_JNI9Y"
      },
      "source": [
        "Tahap Data Splitting bertujuan untuk memisahkan dataset menjadi dua bagian: data latih (training set) dan data uji (test set)."
      ]
    },
    {
      "cell_type": "code",
      "execution_count": 36,
      "metadata": {
        "id": "OubAW-7ONKVj"
      },
      "outputs": [
        {
          "name": "stdout",
          "output_type": "stream",
          "text": [
            "\n",
            "Fitur setelah Min-Max Scaling:\n",
            "   TransactionAmount  CustomerAge  TransactionDuration  LoginAttempts  \\\n",
            "0           0.015317     0.838710             0.244828            0.0   \n",
            "1           0.416400     0.806452             0.451724            0.0   \n",
            "2           0.139579     0.016129             0.158621            0.0   \n",
            "3           0.204047     0.129032             0.051724            0.0   \n",
            "4           0.014608     0.129032             0.648276            0.0   \n",
            "\n",
            "   AccountBalance  TransactionType  Location  Channel  CustomerOccupation  \n",
            "0        0.336832              1.0  0.857143      0.0                 0.0  \n",
            "1        0.918055              1.0  0.357143      0.0                 0.0  \n",
            "2        0.068637              1.0  0.547619      1.0                 1.0  \n",
            "3        0.569198              1.0  0.785714      1.0                 1.0  \n",
            "4        0.492591              0.0  0.023810      1.0                 1.0  \n"
          ]
        }
      ],
      "source": [
        "# 1. Pisahkan fitur (X) dan target (y) sebelum normalisasi\n",
        "X = df.drop('Cluster_Final', axis=1)  # Fitur: semua kolom kecuali 'Cluster_Final'\n",
        "y = df['Cluster_Final']  # Target: kolom 'Cluster_Final'\n",
        "\n",
        "# 2. Terapkan Min-Max Scaling pada fitur (X)\n",
        "scaler = MinMaxScaler()\n",
        "X_scaled = scaler.fit_transform(X)\n",
        "\n",
        "# Konversi kembali ke DataFrame agar lebih mudah dibaca\n",
        "X_scaled = pd.DataFrame(X_scaled, columns=X.columns)\n",
        "\n",
        "print(\"\\nFitur setelah Min-Max Scaling:\")\n",
        "print(X_scaled.head())\n"
      ]
    },
    {
      "cell_type": "code",
      "execution_count": 37,
      "metadata": {},
      "outputs": [
        {
          "name": "stdout",
          "output_type": "stream",
          "text": [
            "\n",
            "Ukuran dataset setelah split:\n",
            "Training set (X_train): (1825, 9)\n",
            "Test set (X_test): (457, 9)\n",
            "Training target (y_train): (1825,)\n",
            "Test target (y_test): (457,)\n",
            "\n",
            "Training set (X_train):\n",
            "      TransactionAmount  CustomerAge  TransactionDuration  LoginAttempts  \\\n",
            "686            0.425105     0.387097             0.558621            0.0   \n",
            "1322           0.157842     0.806452             0.482759            0.0   \n",
            "461            0.003500     0.403226             0.510345            0.0   \n",
            "1402           0.077193     0.161290             0.072414            0.0   \n",
            "940            0.040214     0.709677             0.203448            0.0   \n",
            "\n",
            "      AccountBalance  TransactionType  Location  Channel  CustomerOccupation  \n",
            "686         0.038418              1.0  0.261905      0.5            0.333333  \n",
            "1322        0.780052              1.0  0.857143      0.5            0.000000  \n",
            "461         0.946374              0.0  0.833333      1.0            0.000000  \n",
            "1402        0.004226              1.0  0.071429      0.5            1.000000  \n",
            "940         0.166826              1.0  0.690476      0.0            0.666667  \n",
            "\n",
            "Test set (X_test):\n",
            "      TransactionAmount  CustomerAge  TransactionDuration  LoginAttempts  \\\n",
            "1268           0.615862     0.306452             0.124138            0.0   \n",
            "1633           0.011994     0.532258             0.293103            0.0   \n",
            "700            0.194755     0.322581             0.327586            0.0   \n",
            "2028           0.063848     0.645161             0.300000            0.0   \n",
            "596            0.112412     0.209677             0.055172            0.0   \n",
            "\n",
            "      AccountBalance  TransactionType  Location  Channel  CustomerOccupation  \n",
            "1268        0.795463              1.0  0.928571      1.0            0.000000  \n",
            "1633        0.194182              1.0  0.119048      0.5            0.333333  \n",
            "700         0.608608              1.0  0.904762      0.5            0.333333  \n",
            "2028        0.237943              0.0  0.809524      0.5            0.333333  \n",
            "596         0.399415              1.0  0.714286      0.5            0.000000  \n"
          ]
        }
      ],
      "source": [
        "# 1. Bagi dataset menjadi training set dan test set (80% training, 20% test)\n",
        "X_train, X_test, y_train, y_test = train_test_split(X_scaled, y, test_size=0.2, random_state=42)\n",
        "\n",
        "# 2. Tampilkan ukuran dataset setelah split\n",
        "print(\"\\nUkuran dataset setelah split:\")\n",
        "print(f\"Training set (X_train): {X_train.shape}\")\n",
        "print(f\"Test set (X_test): {X_test.shape}\")\n",
        "print(f\"Training target (y_train): {y_train.shape}\")\n",
        "print(f\"Test target (y_test): {y_test.shape}\")\n",
        "\n",
        "# 3. Tampilkan beberapa baris dari training set dan test set\n",
        "print(\"\\nTraining set (X_train):\")\n",
        "print(X_train.head())\n",
        "print(\"\\nTest set (X_test):\")\n",
        "print(X_test.head())"
      ]
    },
    {
      "cell_type": "markdown",
      "metadata": {
        "id": "IVPbB03CMhTT"
      },
      "source": [
        "# **4. Membangun Model Klasifikasi**\n"
      ]
    },
    {
      "cell_type": "markdown",
      "metadata": {
        "id": "Ned1pL9zMmBK"
      },
      "source": [
        "## **a. Membangun Model Klasifikasi**"
      ]
    },
    {
      "cell_type": "markdown",
      "metadata": {
        "id": "WAWzPOE4Nkti"
      },
      "source": [
        "Setelah memilih algoritma klasifikasi yang sesuai, langkah selanjutnya adalah melatih model menggunakan data latih.\n",
        "\n",
        "Berikut adalah rekomendasi tahapannya.\n",
        "1. Pilih algoritma klasifikasi yang sesuai, seperti Logistic Regression, Decision Tree, Random Forest, atau K-Nearest Neighbors (KNN).\n",
        "2. Latih model menggunakan data latih."
      ]
    },
    {
      "cell_type": "code",
      "execution_count": 38,
      "metadata": {},
      "outputs": [
        {
          "name": "stdout",
          "output_type": "stream",
          "text": [
            "Model Random Forest telah dilatih.\n"
          ]
        }
      ],
      "source": [
        "# Bangun dan latih model Random Forest\n",
        "rf_model = RandomForestClassifier(random_state=42)\n",
        "rf_model.fit(X_train, y_train)\n",
        "print(\"Model Random Forest telah dilatih.\")"
      ]
    },
    {
      "cell_type": "code",
      "execution_count": 39,
      "metadata": {},
      "outputs": [
        {
          "name": "stdout",
          "output_type": "stream",
          "text": [
            "Model K-Nearest Neighbors (KNN) telah dilatih.\n"
          ]
        }
      ],
      "source": [
        "# Bangun dan latih model K-Nearest Neighbors (KNN)\n",
        "knn_model = KNeighborsClassifier(n_neighbors=5)  # Default: 5 tetangga\n",
        "knn_model.fit(X_train, y_train)\n",
        "print(\"Model K-Nearest Neighbors (KNN) telah dilatih.\")"
      ]
    },
    {
      "cell_type": "markdown",
      "metadata": {
        "id": "seYoHNY3XU1y"
      },
      "source": [
        "Dalam kode yang diberikan, dilakukan pembangunan dan pelatihan dua model klasifikasi: Random Forest dan K-Nearest Neighbors (KNN), menggunakan dataset yang telah dipisahkan menjadi data latih (X_train, y_train).\n",
        "\n",
        "1. Random Forest:\n",
        "   - Model dibangun menggunakan RandomForestClassifier dari scikit-learn dengan parameter random_state=42 untuk memastikan hasil yang konsisten.\n",
        "   - Model dilatih dengan metode fit() pada data latih (X_train, y_train).\n",
        "   - Setelah pelatihan selesai, ditampilkan pesan bahwa model telah dilatih.\n",
        "2. K-Nearest Neighbors (KNN):\n",
        "   - Model dibangun menggunakan KNeighborsClassifier dengan parameter n_neighbors=5 (default jumlah tetangga terdekat adalah 5).\n",
        "   - Model juga dilatih dengan metode fit() pada data latih yang sama.\n",
        "   - Setelah pelatihan selesai, ditampilkan pesan bahwa model KNN telah dilatih.\n",
        "- Kesimpulan:\n",
        "Kode ini mengimplementasikan dua algoritma klasifikasi, yaitu Random Forest (berbasis ensemble learning dengan banyak pohon keputusan) dan KNN (berbasis jarak untuk menemukan tetangga terdekat). Kedua model dilatih pada data yang sama untuk tugas klasifikasi, dengan Random Forest menggunakan pendekatan berbasis pohon dan KNN menggunakan pendekatan berbasis jarak (default: Euclidean). Proses ini merupakan langkah awal sebelum evaluasi performa model pada data uji."
      ]
    },
    {
      "cell_type": "markdown",
      "metadata": {
        "id": "ergzChZFEL-O"
      },
      "source": [
        "## **b. Evaluasi Model Klasifikasi**"
      ]
    },
    {
      "cell_type": "markdown",
      "metadata": {
        "id": "zOm68u-7NpLT"
      },
      "source": [
        "Berikut adalah **rekomendasi** tahapannya.\n",
        "1. Lakukan prediksi menggunakan data uji.\n",
        "2. Hitung metrik evaluasi seperti Accuracy dan F1-Score (Opsional: Precision dan Recall).\n",
        "3. Buat confusion matrix untuk melihat detail prediksi benar dan salah."
      ]
    },
    {
      "cell_type": "code",
      "execution_count": 40,
      "metadata": {
        "id": "tMq4QAssNLip"
      },
      "outputs": [
        {
          "name": "stdout",
          "output_type": "stream",
          "text": [
            "Hasil Evaluasi Random Forest:\n",
            "Akurasi: 1.0\n",
            "F1-Score: 1.0\n",
            "Precision: 1.0\n",
            "Recall: 1.0\n",
            "\n",
            "Laporan Klasifikasi:\n",
            "               precision    recall  f1-score   support\n",
            "\n",
            "         0.0       1.00      1.00      1.00       107\n",
            "         1.0       1.00      1.00      1.00       116\n",
            "         2.0       1.00      1.00      1.00       125\n",
            "         3.0       1.00      1.00      1.00       109\n",
            "\n",
            "    accuracy                           1.00       457\n",
            "   macro avg       1.00      1.00      1.00       457\n",
            "weighted avg       1.00      1.00      1.00       457\n",
            "\n",
            "\n",
            "Confusion Matrix untuk Random Forest:\n",
            " [[107   0   0   0]\n",
            " [  0 116   0   0]\n",
            " [  0   0 125   0]\n",
            " [  0   0   0 109]]\n"
          ]
        },
        {
          "data": {
            "image/png": "[encoded data removed]",
            "text/plain": [
              "<Figure size 800x600 with 2 Axes>"
            ]
          },
          "metadata": {},
          "output_type": "display_data"
        }
      ],
      "source": [
        "# Prediksi menggunakan Random Forest\n",
        "y_pred_rf = rf_model.predict(X_test)\n",
        "\n",
        "# Evaluasi Random Forest\n",
        "print(\"Hasil Evaluasi Random Forest:\")\n",
        "accuracy_rf = accuracy_score(y_test, y_pred_rf)\n",
        "f1_rf = f1_score(y_test, y_pred_rf, average='weighted')  # Weighted untuk multi-class\n",
        "precision_rf = precision_score(y_test, y_pred_rf, average='weighted')\n",
        "recall_rf = recall_score(y_test, y_pred_rf, average='weighted')\n",
        "\n",
        "print(\"Akurasi:\", accuracy_rf)\n",
        "print(\"F1-Score:\", f1_rf)\n",
        "print(\"Precision:\", precision_rf)\n",
        "print(\"Recall:\", recall_rf)\n",
        "print(\"\\nLaporan Klasifikasi:\\n\", classification_report(y_test, y_pred_rf))\n",
        "\n",
        "# Confusion Matrix untuk Random Forest\n",
        "cm_rf = confusion_matrix(y_test, y_pred_rf)\n",
        "print(\"\\nConfusion Matrix untuk Random Forest:\\n\", cm_rf)\n",
        "\n",
        "# Visualisasi Confusion Matrix untuk Random Forest\n",
        "plt.figure(figsize=(8, 6))\n",
        "sns.heatmap(cm_rf, annot=True, fmt='d', cmap='Blues', xticklabels=sorted(y_test.unique()), yticklabels=sorted(y_test.unique()))\n",
        "plt.title('Confusion Matrix - Random Forest')\n",
        "plt.xlabel('Predicted')\n",
        "plt.ylabel('Actual')\n",
        "plt.show()"
      ]
    },
    {
      "cell_type": "code",
      "execution_count": 41,
      "metadata": {},
      "outputs": [
        {
          "name": "stdout",
          "output_type": "stream",
          "text": [
            "\n",
            "Hasil Evaluasi K-Nearest Neighbors (KNN):\n",
            "Akurasi: 0.9781181619256017\n",
            "F1-Score: 0.9781551715979832\n",
            "Precision: 0.9790196086246594\n",
            "Recall: 0.9781181619256017\n",
            "\n",
            "Laporan Klasifikasi:\n",
            "               precision    recall  f1-score   support\n",
            "\n",
            "         0.0       0.98      0.99      0.99       107\n",
            "         1.0       0.93      0.98      0.96       116\n",
            "         2.0       1.00      1.00      1.00       125\n",
            "         3.0       1.00      0.94      0.97       109\n",
            "\n",
            "    accuracy                           0.98       457\n",
            "   macro avg       0.98      0.98      0.98       457\n",
            "weighted avg       0.98      0.98      0.98       457\n",
            "\n",
            "\n",
            "Confusion Matrix untuk K-Nearest Neighbors (KNN):\n",
            " [[106   1   0   0]\n",
            " [  2 114   0   0]\n",
            " [  0   0 125   0]\n",
            " [  0   7   0 102]]\n"
          ]
        },
        {
          "data": {
            "image/png": "[encoded data removed]",
            "text/plain": [
              "<Figure size 800x600 with 2 Axes>"
            ]
          },
          "metadata": {},
          "output_type": "display_data"
        }
      ],
      "source": [
        "# Prediksi menggunakan K-Nearest Neighbors (KNN)\n",
        "y_pred_knn = knn_model.predict(X_test)\n",
        "\n",
        "# Evaluasi KNN\n",
        "print(\"\\nHasil Evaluasi K-Nearest Neighbors (KNN):\")\n",
        "accuracy_knn = accuracy_score(y_test, y_pred_knn)\n",
        "f1_knn = f1_score(y_test, y_pred_knn, average='weighted')  # Weighted untuk multi-class\n",
        "precision_knn = precision_score(y_test, y_pred_knn, average='weighted')\n",
        "recall_knn = recall_score(y_test, y_pred_knn, average='weighted')\n",
        "\n",
        "print(\"Akurasi:\", accuracy_knn)\n",
        "print(\"F1-Score:\", f1_knn)\n",
        "print(\"Precision:\", precision_knn)\n",
        "print(\"Recall:\", recall_knn)\n",
        "print(\"\\nLaporan Klasifikasi:\\n\", classification_report(y_test, y_pred_knn))\n",
        "\n",
        "# Confusion Matrix untuk KNN\n",
        "cm_knn = confusion_matrix(y_test, y_pred_knn)\n",
        "print(\"\\nConfusion Matrix untuk K-Nearest Neighbors (KNN):\\n\", cm_knn)\n",
        "\n",
        "# Visualisasi Confusion Matrix untuk KNN\n",
        "plt.figure(figsize=(8, 6))\n",
        "sns.heatmap(cm_knn, annot=True, fmt='d', cmap='Blues', xticklabels=sorted(y_test.unique()), yticklabels=sorted(y_test.unique()))\n",
        "plt.title('Confusion Matrix - K-Nearest Neighbors (KNN)')\n",
        "plt.xlabel('Predicted')\n",
        "plt.ylabel('Actual')\n",
        "plt.show()"
      ]
    },
    {
      "cell_type": "markdown",
      "metadata": {
        "id": "H4_9OwrsXZlz"
      },
      "source": [
        "1. Hasil Evaluasi Random Forest\n",
        "Menunjukkan performa sempurna dengan akurasi, F1-score, precision, dan recall sebesar 1.0. Tidak ada kesalahan prediksi pada semua kelas, yang menunjukkan model ini sangat cocok untuk dataset ini.\n",
        "\n",
        "2. Hasil Evaluasi KNN:\n",
        "Memiliki akurasi 0.9781 dan F1-score 0.9782, yang sangat baik tetapi tidak sempurna. Terdapat beberapa kesalahan prediksi, terutama pada kelas 1 (5 kesalahan) dan kelas 3 (3 kesalahan). Kelas 2 diprediksi dengan sempurna (F1-score 1.0).\n",
        "\n",
        "- Kesimpulan\n",
        "Random Forest jelas lebih unggul dibandingkan KNN pada dataset ini, dengan performa sempurna (akurasi dan F1-score 1.0) dibandingkan KNN (akurasi 0.9781, F1-score 0.9782). Random Forest mampu menangkap pola data dengan sangat baik, sementara KNN, meskipun performanya sangat baik, masih menghasilkan beberapa kesalahan prediksi, terutama pada kelas 1 dan 3. Oleh karena itu, Random Forest direkomendasikan sebagai model terbaik untuk dataset ini. Namun, performa sempurna Random Forest dapat mengindikasikan potensi overfitting, sehingga disarankan untuk melakukan validasi tambahan, seperti cross-validation atau pengujian pada data baru."
      ]
    },
    {
      "cell_type": "markdown",
      "metadata": {
        "id": "ph9yIYDXEPuB"
      },
      "source": [
        "## **c. Tuning Model Klasifikasi (Optional)**"
      ]
    },
    {
      "cell_type": "markdown",
      "metadata": {
        "id": "-Bikx3LINv5e"
      },
      "source": [
        "Gunakan GridSearchCV, RandomizedSearchCV, atau metode lainnya untuk mencari kombinasi hyperparameter terbaik"
      ]
    },
    {
      "cell_type": "code",
      "execution_count": 42,
      "metadata": {},
      "outputs": [
        {
          "name": "stdout",
          "output_type": "stream",
          "text": [
            "Tuning Hyperparameter untuk Random Forest menggunakan GridSearchCV\n",
            "\n",
            "Fitting 5 folds for each of 216 candidates, totalling 1080 fits\n",
            "\n",
            "Hyperparameter Terbaik untuk Random Forest:\n",
            "{'bootstrap': True, 'max_depth': None, 'min_samples_leaf': 1, 'min_samples_split': 2, 'n_estimators': 100}\n",
            "F1-Score Terbaik (Cross-Validation): 1.0\n",
            "\n",
            "Hasil Evaluasi Random Forest (Setelah Tuning):\n",
            "Akurasi: 1.0\n",
            "F1-Score: 1.0\n",
            "\n",
            "Laporan Klasifikasi:\n",
            "               precision    recall  f1-score   support\n",
            "\n",
            "         0.0       1.00      1.00      1.00       107\n",
            "         1.0       1.00      1.00      1.00       116\n",
            "         2.0       1.00      1.00      1.00       125\n",
            "         3.0       1.00      1.00      1.00       109\n",
            "\n",
            "    accuracy                           1.00       457\n",
            "   macro avg       1.00      1.00      1.00       457\n",
            "weighted avg       1.00      1.00      1.00       457\n",
            "\n",
            "\n",
            "Confusion Matrix untuk Random Forest (Setelah Tuning):\n",
            " [[107   0   0   0]\n",
            " [  0 116   0   0]\n",
            " [  0   0 125   0]\n",
            " [  0   0   0 109]]\n"
          ]
        },
        {
          "data": {
            "image/png": "[encoded data removed]",
            "text/plain": [
              "<Figure size 800x600 with 2 Axes>"
            ]
          },
          "metadata": {},
          "output_type": "display_data"
        }
      ],
      "source": [
        "# Tuning Hyperparameter untuk Random Forest menggunakan GridSearchCV\n",
        "print(\"Tuning Hyperparameter untuk Random Forest menggunakan GridSearchCV\\n\")\n",
        "\n",
        "# Definisikan parameter grid untuk Random Forest\n",
        "rf_param_grid = {\n",
        "    'n_estimators': [100, 200, 300],  # Jumlah pohon\n",
        "    'max_depth': [None, 10, 20, 30],  # Kedalaman maksimum pohon\n",
        "    'min_samples_split': [2, 5, 10],  # Jumlah minimum sampel untuk split\n",
        "    'min_samples_leaf': [1, 2, 4],    # Jumlah minimum sampel di daun\n",
        "    'bootstrap': [True, False]        # Gunakan bootstrap atau tidak\n",
        "}\n",
        "\n",
        "# Inisialisasi model Random Forest\n",
        "rf_model = RandomForestClassifier(random_state=42)\n",
        "\n",
        "# Inisialisasi GridSearchCV\n",
        "rf_grid_search = GridSearchCV(estimator=rf_model, \n",
        "                              param_grid=rf_param_grid, \n",
        "                              cv=5,  # 5-fold cross-validation\n",
        "                              scoring='f1_weighted',  # Metrik utama: F1-Score (weighted untuk multi-class)\n",
        "                              n_jobs=-1,  # Gunakan semua CPU\n",
        "                              verbose=1)\n",
        "\n",
        "# Latih model dengan GridSearchCV\n",
        "rf_grid_search.fit(X_train, y_train)\n",
        "\n",
        "# Tampilkan hyperparameter terbaik\n",
        "print(\"\\nHyperparameter Terbaik untuk Random Forest:\")\n",
        "print(rf_grid_search.best_params_)\n",
        "print(\"F1-Score Terbaik (Cross-Validation):\", rf_grid_search.best_score_)\n",
        "\n",
        "# Gunakan model terbaik untuk prediksi\n",
        "rf_best_model = rf_grid_search.best_estimator_\n",
        "y_pred_rf_tuned = rf_best_model.predict(X_test)\n",
        "\n",
        "# Evaluasi model Random Forest setelah tuning\n",
        "print(\"\\nHasil Evaluasi Random Forest (Setelah Tuning):\")\n",
        "accuracy_rf_tuned = accuracy_score(y_test, y_pred_rf_tuned)\n",
        "f1_rf_tuned = f1_score(y_test, y_pred_rf_tuned, average='weighted')\n",
        "\n",
        "print(\"Akurasi:\", accuracy_rf_tuned)\n",
        "print(\"F1-Score:\", f1_rf_tuned)\n",
        "print(\"\\nLaporan Klasifikasi:\\n\", classification_report(y_test, y_pred_rf_tuned))\n",
        "\n",
        "# Confusion Matrix untuk Random Forest setelah tuning\n",
        "cm_rf_tuned = confusion_matrix(y_test, y_pred_rf_tuned)\n",
        "print(\"\\nConfusion Matrix untuk Random Forest (Setelah Tuning):\\n\", cm_rf_tuned)\n",
        "\n",
        "# Visualisasi Confusion Matrix\n",
        "plt.figure(figsize=(8, 6))\n",
        "sns.heatmap(cm_rf_tuned, annot=True, fmt='d', cmap='Blues', xticklabels=sorted(y_test.unique()), yticklabels=sorted(y_test.unique()))\n",
        "plt.title('Confusion Matrix - Random Forest (Setelah Tuning)')\n",
        "plt.xlabel('Predicted')\n",
        "plt.ylabel('Actual')\n",
        "plt.show()\n"
      ]
    },
    {
      "cell_type": "code",
      "execution_count": 43,
      "metadata": {
        "id": "winbFzb8NL95"
      },
      "outputs": [
        {
          "name": "stdout",
          "output_type": "stream",
          "text": [
            "\n",
            "Tuning Hyperparameter untuk KNN menggunakan RandomizedSearchCV\n",
            "\n",
            "Fitting 5 folds for each of 20 candidates, totalling 100 fits\n",
            "\n",
            "Hyperparameter Terbaik untuk KNN:\n",
            "{'weights': 'distance', 'p': 1, 'n_neighbors': 9, 'leaf_size': 20}\n",
            "F1-Score Terbaik (Cross-Validation): 0.9967124469911812\n",
            "\n",
            "Hasil Evaluasi K-Nearest Neighbors (KNN) (Setelah Tuning):\n",
            "Akurasi: 0.9978118161925602\n",
            "F1-Score: 0.9978121686635248\n",
            "\n",
            "Laporan Klasifikasi:\n",
            "               precision    recall  f1-score   support\n",
            "\n",
            "         0.0       0.99      1.00      1.00       107\n",
            "         1.0       1.00      0.99      1.00       116\n",
            "         2.0       1.00      1.00      1.00       125\n",
            "         3.0       1.00      1.00      1.00       109\n",
            "\n",
            "    accuracy                           1.00       457\n",
            "   macro avg       1.00      1.00      1.00       457\n",
            "weighted avg       1.00      1.00      1.00       457\n",
            "\n",
            "\n",
            "Confusion Matrix untuk K-Nearest Neighbors (KNN) (Setelah Tuning):\n",
            " [[107   0   0   0]\n",
            " [  1 115   0   0]\n",
            " [  0   0 125   0]\n",
            " [  0   0   0 109]]\n"
          ]
        },
        {
          "data": {
            "image/png": "[encoded data removed]",
            "text/plain": [
              "<Figure size 800x600 with 2 Axes>"
            ]
          },
          "metadata": {},
          "output_type": "display_data"
        }
      ],
      "source": [
        "# Tuning Hyperparameter untuk KNN menggunakan RandomizedSearchCV\n",
        "print(\"\\nTuning Hyperparameter untuk KNN menggunakan RandomizedSearchCV\\n\")\n",
        "\n",
        "# Definisikan parameter distribution untuk KNN\n",
        "knn_param_dist = {\n",
        "    'n_neighbors': [3, 5, 7, 9, 11],  # Jumlah tetangga\n",
        "    'weights': ['uniform', 'distance'],  # Bobot tetangga\n",
        "    'p': [1, 2],  # Metrik jarak (1: Manhattan, 2: Euclidean)\n",
        "    'leaf_size': [20, 30, 40]  # Ukuran daun\n",
        "}\n",
        "\n",
        "# Inisialisasi model KNN\n",
        "knn_model = KNeighborsClassifier()\n",
        "\n",
        "# Inisialisasi RandomizedSearchCV\n",
        "knn_random_search = RandomizedSearchCV(estimator=knn_model, \n",
        "                                       param_distributions=knn_param_dist, \n",
        "                                       n_iter=20,  # Jumlah iterasi acak\n",
        "                                       cv=5,  # 5-fold cross-validation\n",
        "                                       scoring='f1_weighted',  # Metrik utama: F1-Score\n",
        "                                       n_jobs=-1, \n",
        "                                       verbose=1, \n",
        "                                       random_state=42)\n",
        "\n",
        "# Latih model dengan RandomizedSearchCV\n",
        "knn_random_search.fit(X_train, y_train)\n",
        "\n",
        "# Tampilkan hyperparameter terbaik\n",
        "print(\"\\nHyperparameter Terbaik untuk KNN:\")\n",
        "print(knn_random_search.best_params_)\n",
        "print(\"F1-Score Terbaik (Cross-Validation):\", knn_random_search.best_score_)\n",
        "\n",
        "# Gunakan model terbaik untuk prediksi\n",
        "knn_best_model = knn_random_search.best_estimator_\n",
        "y_pred_knn_tuned = knn_best_model.predict(X_test)\n",
        "\n",
        "# Evaluasi model KNN setelah tuning\n",
        "print(\"\\nHasil Evaluasi K-Nearest Neighbors (KNN) (Setelah Tuning):\")\n",
        "accuracy_knn_tuned = accuracy_score(y_test, y_pred_knn_tuned)\n",
        "f1_knn_tuned = f1_score(y_test, y_pred_knn_tuned, average='weighted')\n",
        "\n",
        "print(\"Akurasi:\", accuracy_knn_tuned)\n",
        "print(\"F1-Score:\", f1_knn_tuned)\n",
        "print(\"\\nLaporan Klasifikasi:\\n\", classification_report(y_test, y_pred_knn_tuned))\n",
        "\n",
        "# Confusion Matrix untuk KNN setelah tuning\n",
        "cm_knn_tuned = confusion_matrix(y_test, y_pred_knn_tuned)\n",
        "print(\"\\nConfusion Matrix untuk K-Nearest Neighbors (KNN) (Setelah Tuning):\\n\", cm_knn_tuned)\n",
        "\n",
        "# Visualisasi Confusion Matrix\n",
        "plt.figure(figsize=(8, 6))\n",
        "sns.heatmap(cm_knn_tuned, annot=True, fmt='d', cmap='Blues', xticklabels=sorted(y_test.unique()), yticklabels=sorted(y_test.unique()))\n",
        "plt.title('Confusion Matrix - K-Nearest Neighbors (KNN) (Setelah Tuning)')\n",
        "plt.xlabel('Predicted')\n",
        "plt.ylabel('Actual')\n",
        "plt.show()\n",
        "\n"
      ]
    },
    {
      "cell_type": "code",
      "execution_count": 44,
      "metadata": {},
      "outputs": [
        {
          "name": "stdout",
          "output_type": "stream",
          "text": [
            "\n",
            "Rekomendasi Berdasarkan F1-Score Setelah Tuning:\n",
            "Gunakan Random Forest karena memiliki F1-Score lebih tinggi setelah tuning.\n",
            "F1-Score Random Forest: 1.000 vs F1-Score KNN: 0.998\n"
          ]
        }
      ],
      "source": [
        "# Rekomendasi berdasarkan F1-Score setelah tuning\n",
        "print(\"\\nRekomendasi Berdasarkan F1-Score Setelah Tuning:\")\n",
        "if f1_rf_tuned > f1_knn_tuned:\n",
        "    print(\"Gunakan Random Forest karena memiliki F1-Score lebih tinggi setelah tuning.\")\n",
        "    print(f\"F1-Score Random Forest: {f1_rf_tuned:.3f} vs F1-Score KNN: {f1_knn_tuned:.3f}\")\n",
        "else:\n",
        "    print(\"Gunakan K-Nearest Neighbors (KNN) karena memiliki F1-Score lebih tinggi setelah tuning.\")\n",
        "    print(f\"F1-Score KNN: {f1_knn_tuned:.3f} vs F1-Score Random Forest: {f1_rf_tuned:.3f}\")"
      ]
    },
    {
      "cell_type": "markdown",
      "metadata": {
        "id": "hE7pqlEPEYzI"
      },
      "source": [
        "## **d. Evaluasi Model Klasifikasi setelah Tuning (Optional)**"
      ]
    },
    {
      "cell_type": "markdown",
      "metadata": {
        "id": "feaPESoeN0zz"
      },
      "source": [
        "Berikut adalah rekomendasi tahapannya.\n",
        "1. Gunakan model dengan hyperparameter terbaik.\n",
        "2. Hitung ulang metrik evaluasi untuk melihat apakah ada peningkatan performa."
      ]
    },
    {
      "cell_type": "code",
      "execution_count": 45,
      "metadata": {
        "id": "HTXZRvEeNMb1"
      },
      "outputs": [
        {
          "name": "stdout",
          "output_type": "stream",
          "text": [
            "Evaluasi Ulang Model Random Forest dengan Hyperparameter Terbaik\n",
            "\n",
            "Hasil Evaluasi Random Forest Terbaik:\n",
            "Akurasi: 1.000\n",
            "Precision: 1.000\n",
            "Recall: 1.000\n",
            "F1-Score: 1.000\n",
            "\n",
            "Laporan Klasifikasi Lengkap:\n",
            "              precision    recall  f1-score   support\n",
            "\n",
            "         0.0       1.00      1.00      1.00       107\n",
            "         1.0       1.00      1.00      1.00       116\n",
            "         2.0       1.00      1.00      1.00       125\n",
            "         3.0       1.00      1.00      1.00       109\n",
            "\n",
            "    accuracy                           1.00       457\n",
            "   macro avg       1.00      1.00      1.00       457\n",
            "weighted avg       1.00      1.00      1.00       457\n",
            "\n"
          ]
        }
      ],
      "source": [
        "# Evaluasi Model Klasifikasi Setelah Tuning\n",
        "\n",
        "# 1. Evaluasi ulang Random Forest dengan hyperparameter terbaik\n",
        "print(\"Evaluasi Ulang Model Random Forest dengan Hyperparameter Terbaik\\n\")\n",
        "\n",
        "# Ambil model terbaik dari GridSearchCV\n",
        "rf_best_model = rf_grid_search.best_estimator_\n",
        "\n",
        "# Prediksi ulang dengan data test\n",
        "y_pred_rf_best = rf_best_model.predict(X_test)\n",
        "\n",
        "# Hitung ulang metrik evaluasi\n",
        "print(\"Hasil Evaluasi Random Forest Terbaik:\")\n",
        "accuracy_rf_best = accuracy_score(y_test, y_pred_rf_best)\n",
        "precision_rf_best = precision_score(y_test, y_pred_rf_best, average='weighted')\n",
        "recall_rf_best = recall_score(y_test, y_pred_rf_best, average='weighted')\n",
        "f1_rf_best = f1_score(y_test, y_pred_rf_best, average='weighted')\n",
        "\n",
        "print(f\"Akurasi: {accuracy_rf_best:.3f}\")\n",
        "print(f\"Precision: {precision_rf_best:.3f}\")\n",
        "print(f\"Recall: {recall_rf_best:.3f}\")\n",
        "print(f\"F1-Score: {f1_rf_best:.3f}\")\n",
        "print(\"\\nLaporan Klasifikasi Lengkap:\")\n",
        "print(classification_report(y_test, y_pred_rf_best))\n",
        "\n"
      ]
    },
    {
      "cell_type": "code",
      "execution_count": 46,
      "metadata": {},
      "outputs": [
        {
          "name": "stdout",
          "output_type": "stream",
          "text": [
            "\n",
            "Evaluasi Ulang Model KNN dengan Hyperparameter Terbaik\n",
            "\n",
            "Hasil Evaluasi KNN Terbaik:\n",
            "Akurasi: 0.998\n",
            "Precision: 0.998\n",
            "Recall: 0.998\n",
            "F1-Score: 0.998\n",
            "\n",
            "Laporan Klasifikasi Lengkap:\n",
            "              precision    recall  f1-score   support\n",
            "\n",
            "         0.0       0.99      1.00      1.00       107\n",
            "         1.0       1.00      0.99      1.00       116\n",
            "         2.0       1.00      1.00      1.00       125\n",
            "         3.0       1.00      1.00      1.00       109\n",
            "\n",
            "    accuracy                           1.00       457\n",
            "   macro avg       1.00      1.00      1.00       457\n",
            "weighted avg       1.00      1.00      1.00       457\n",
            "\n"
          ]
        }
      ],
      "source": [
        "# Evaluasi ulang KNN dengan hyperparameter terbaik\n",
        "print(\"\\nEvaluasi Ulang Model KNN dengan Hyperparameter Terbaik\\n\")\n",
        "\n",
        "# Ambil model terbaik dari RandomizedSearchCV\n",
        "knn_best_model = knn_random_search.best_estimator_\n",
        "\n",
        "# Prediksi ulang dengan data test\n",
        "y_pred_knn_best = knn_best_model.predict(X_test)\n",
        "# Hitung ulang metrik evaluasi\n",
        "print(\"Hasil Evaluasi KNN Terbaik:\")\n",
        "accuracy_knn_best = accuracy_score(y_test, y_pred_knn_best)\n",
        "precision_knn_best = precision_score(y_test, y_pred_knn_best, average='weighted')\n",
        "recall_knn_best = recall_score(y_test, y_pred_knn_best, average='weighted')\n",
        "f1_knn_best = f1_score(y_test, y_pred_knn_best, average='weighted')\n",
        "\n",
        "print(f\"Akurasi: {accuracy_knn_best:.3f}\")\n",
        "print(f\"Precision: {precision_knn_best:.3f}\")\n",
        "print(f\"Recall: {recall_knn_best:.3f}\")\n",
        "print(f\"F1-Score: {f1_knn_best:.3f}\")\n",
        "print(\"\\nLaporan Klasifikasi Lengkap:\")\n",
        "print(classification_report(y_test, y_pred_knn_best))"
      ]
    },
    {
      "cell_type": "code",
      "execution_count": 47,
      "metadata": {},
      "outputs": [
        {
          "name": "stdout",
          "output_type": "stream",
          "text": [
            "\n",
            "Perbandingan Performa Model Setelah Tuning:\n",
            "Metrik          Random Forest   KNN            \n",
            "---------------------------------------------\n",
            "Akurasi         1.000           0.998          \n",
            "Precision       1.000           0.998          \n",
            "Recall          1.000           0.998          \n",
            "F1-Score        1.000           0.998          \n",
            "\n",
            "Rekomendasi Final:\n",
            "Berdasarkan evaluasi ulang, Random Forest direkomendasikan karena memiliki F1-Score yang lebih tinggi.\n",
            "F1-Score Random Forest: 1.000 vs F1-Score KNN: 0.998\n"
          ]
        }
      ],
      "source": [
        "# Perbandingan performa kedua model\n",
        "print(\"\\nPerbandingan Performa Model Setelah Tuning:\")\n",
        "print(f\"{'Metrik':<15} {'Random Forest':<15} {'KNN':<15}\")\n",
        "print(\"-\" * 45)\n",
        "print(f\"{'Akurasi':<15} {accuracy_rf_best:<15.3f} {accuracy_knn_best:<15.3f}\")\n",
        "print(f\"{'Precision':<15} {precision_rf_best:<15.3f} {precision_knn_best:<15.3f}\")\n",
        "print(f\"{'Recall':<15} {recall_rf_best:<15.3f} {recall_knn_best:<15.3f}\")\n",
        "print(f\"{'F1-Score':<15} {f1_rf_best:<15.3f} {f1_knn_best:<15.3f}\")\n",
        "\n",
        "# Rekomendasi final\n",
        "print(\"\\nRekomendasi Final:\")\n",
        "if f1_rf_best > f1_knn_best:\n",
        "    print(\"Berdasarkan evaluasi ulang, Random Forest direkomendasikan karena memiliki F1-Score yang lebih tinggi.\")\n",
        "    print(f\"F1-Score Random Forest: {f1_rf_best:.3f} vs F1-Score KNN: {f1_knn_best:.3f}\")\n",
        "else:\n",
        "    print(\"Berdasarkan evaluasi ulang, KNN direkomendasikan karena memiliki F1-Score yang lebih tinggi.\")\n",
        "    print(f\"F1-Score KNN: {f1_knn_best:.3f} vs F1-Score Random Forest: {f1_rf_best:.3f}\")"
      ]
    },
    {
      "cell_type": "markdown",
      "metadata": {
        "id": "ZRsOdm4uEgAW"
      },
      "source": [
        "## **e. Analisis Hasil Evaluasi Model Klasifikasi**"
      ]
    },
    {
      "cell_type": "markdown",
      "metadata": {
        "id": "Hm3BhSi6N4_l"
      },
      "source": [
        "Berikut adalah **rekomendasi** tahapannya.\n",
        "1. Bandingkan hasil evaluasi sebelum dan setelah tuning (jika dilakukan).\n",
        "2. Identifikasi kelemahan model, seperti:\n",
        "  - Precision atau Recall rendah untuk kelas tertentu.\n",
        "  - Apakah model mengalami overfitting atau underfitting?\n",
        "3. Berikan rekomendasi tindakan lanjutan, seperti mengumpulkan data tambahan atau mencoba algoritma lain jika hasil belum memuaskan."
      ]
    },
    {
      "cell_type": "markdown",
      "metadata": {},
      "source": [
        "**1. Bandingkan hasil evaluasi sebelum dan sesudah tuning**\n",
        "- Random Forest: Tidak ada perubahan performa, karena model sudah mencapai performa sempurna sejak awal. Ini mungkin karena dataset memiliki pola yang sangat jelas atau dataset terlalu sederhana.\n",
        "- KNN: Tuning tidak memberikan peningkatan performa yang signifikan, mungkin karena parameter default (n_neighbors=5) sudah cukup baik, atau dataset tidak cukup kompleks untuk memanfaatkan tuning lebih lanjut.\n",
        "- Kesimpulan:\n",
        "   - Random Forest sudah mencapai performa sempurna sejak awal, sehingga tuning tidak memberikan perubahan. Namun, performa sempurna ini menimbulkan kekhawatiran tentang overfitting.\n",
        "   - KNN memiliki performa yang sangat baik (akurasinya hanya sedikit di bawah Random Forest), tetapi tuning tidak memberikan peningkatan yang signifikan. Ini menunjukkan bahwa KNN mungkin sudah berada pada performa optimal untuk dataset ini dengan parameter yang digunakan.\n",
        "\n",
        "**2. Identifikasi kelemahan model**\n",
        "- Random Forest: Precision, recall, dan F1-score untuk semua kelas adalah 1.0, baik sebelum maupun sesudah tuning. Tidak ada kelemahan yang terlihat dari metrik ini.\n",
        "- KNN: Kelas 1 dan 3 memiliki precision dan recall yang sedikit lebih rendah dibandingkan kelas lain (0 dan 2, yang memiliki nilai 1.0). Ini menunjukkan bahwa KNN kesulitan membedakan kelas 1 dan 3 dengan sempurna, seperti terlihat dari confusion matrix (5 kesalahan pada kelas 1, 3 kesalahan pada kelas 3).\n",
        "\n",
        "**Apakah Model Mengalami Overfitting dan Underfitting?**\n",
        "- Random Forest: \n",
        "   - Overfitting: Sangat mungkin terjadi. Performa sempurna (F1-score 1.0) pada data latih (cross-validation) dan data uji menunjukkan bahwa model mungkin terlalu \"menghafal\" pola dalam data, terutama jika dataset kecil atau sederhana. Standar deviasi 0.0 pada cross-validation juga mendukung bahwa model sangat fit dengan data latih, tetapi ini bisa menjadi tanda overfitting jika performa menurun drastis pada data baru.\n",
        "   - Underfitting: Tidak terjadi, karena performa sudah maksimal.\n",
        "- KNN:\n",
        "   - Overfitting: Tidak terlalu signifikan. KNN dengan n_neighbors=5 memiliki performa yang baik (akurasi 0.9781), tetapi tidak sempurna, menunjukkan bahwa model tidak terlalu \"menghafal\" data. Namun, jika data tidak dinormalisasi, KNN bisa rentan terhadap bias pada fitur dengan skala besar.\n",
        "   - Underfitting: Juga tidak terjadi, karena performa sudah cukup tinggi (akurasi 0.9781), meskipun ada ruang untuk perbaikan pada kelas tertentu (kelas 1 dan 3).\n",
        "- Kesimpulan:\n",
        "   - Random Forest menunjukkan tanda-tanda overfitting karena performa sempurna di semua metrik, baik data latih maupun data uji.\n",
        "   - KNN tidak menunjukkan overfitting atau underfitting yang signifikan, tetapi memiliki kelemahan pada kelas 1 dan 3, yang mungkin disebabkan oleh distribusi data yang tidak seimbang atau fitur yang kurang diskriminatif untuk kelas tersebut.\n",
        "\n",
        "**3. Berikan Rekomendasi Tindakan Lanjutan**\n",
        "- Mengumpulkan Data Tambahan: Karena ada indikasi overfitting, sangat disarankan untuk mengumpulkan data tambahan yang lebih beragam. Dataset yang lebih besar dan bervariasi dapat membantu model belajar pola yang lebih umum, sehingga mengurangi risiko overfitting.\n"
      ]
    }
  ],
  "metadata": {
    "colab": {
      "provenance": []
    },
    "kernelspec": {
      "display_name": "Python 3",
      "name": "python3"
    },
    "language_info": {
      "codemirror_mode": {
        "name": "ipython",
        "version": 3
      },
      "file_extension": ".py",
      "mimetype": "text/x-python",
      "name": "python",
      "nbconvert_exporter": "python",
      "pygments_lexer": "ipython3",
      "version": "3.13.2"
    }
  },
  "nbformat": 4,
  "nbformat_minor": 0
}
